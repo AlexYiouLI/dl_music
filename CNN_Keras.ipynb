{
 "cells": [
  {
   "cell_type": "code",
   "execution_count": 14,
   "metadata": {},
   "outputs": [],
   "source": [
    "import pandas as pd\n",
    "import numpy as np\n",
    "import tensorflow as tf\n",
    "import glob\n",
    "import audioread as ar\n",
    "import random\n",
    "from urllib.request import urlretrieve\n",
    "import tarfile\n",
    "import math\n",
    "import librosa\n",
    "import time\n",
    "from multiprocessing import Pool\n",
    "import itertools"
   ]
  },
  {
   "cell_type": "code",
   "execution_count": 15,
   "metadata": {},
   "outputs": [],
   "source": [
    "class MusicFile():\n",
    "    def __init__(self, file_path):\n",
    "        self.file_path = file_path\n",
    "        self.file_name = file_path.split('/')[-1]\n",
    "        self.audio, _ = librosa.core.load(file_path, duration=30)\n",
    "        self.genre = file_path.split('/')[-2]"
   ]
  },
  {
   "cell_type": "code",
   "execution_count": 16,
   "metadata": {},
   "outputs": [
    {
     "name": "stdout",
     "output_type": "stream",
     "text": [
      "Took 160.08117771148682\n"
     ]
    }
   ],
   "source": [
    "all_file_paths = glob.glob('genres/*/*.au')\n",
    "\n",
    "def add_music_file(audio_file_path):\n",
    "    return MusicFile(audio_file_path)\n",
    "\n",
    "start_time = time.time()\n",
    "\n",
    "p = Pool(20)\n",
    "music_files = p.map(add_music_file, all_file_paths)\n",
    "\n",
    "print(\"Took\", time.time() - start_time)"
   ]
  },
  {
   "cell_type": "code",
   "execution_count": 17,
   "metadata": {},
   "outputs": [],
   "source": [
    "all_genres = sorted(set(map(lambda music_file: music_file.genre, music_files)))"
   ]
  },
  {
   "cell_type": "code",
   "execution_count": 18,
   "metadata": {},
   "outputs": [],
   "source": [
    "def genre_to_int(genre):\n",
    "    return all_genres.index(genre)"
   ]
  },
  {
   "cell_type": "code",
   "execution_count": 19,
   "metadata": {},
   "outputs": [],
   "source": [
    "def genre_to_onehot(genre):\n",
    "    array = np.zeros(len(all_genres))\n",
    "    array[genre_to_int(genre)] = 1\n",
    "    return array"
   ]
  },
  {
   "cell_type": "code",
   "execution_count": 20,
   "metadata": {},
   "outputs": [],
   "source": [
    "music_files = sorted(music_files, key=lambda music_file: music_file.file_path)\n",
    "\n",
    "x_train = []\n",
    "y_train = []\n",
    "\n",
    "x_test = []\n",
    "y_test = []\n",
    "\n",
    "for genre, genre_music_file_group in itertools.groupby(music_files, key=lambda music_file: music_file.genre):\n",
    "    one_hot_genre = genre_to_onehot(genre)\n",
    "    for i, music_file in enumerate(genre_music_file_group):\n",
    "        if i < 50:\n",
    "            x_train.append(music_file.audio[:100000])\n",
    "            y_train.append(one_hot_genre)\n",
    "        else:\n",
    "            x_test.append(music_file.audio[:100000])\n",
    "            y_test.append(one_hot_genre)"
   ]
  },
  {
   "cell_type": "code",
   "execution_count": 21,
   "metadata": {},
   "outputs": [],
   "source": [
    "def normalize(data):\n",
    "    for d in data:\n",
    "        max_d = max(d)\n",
    "        min_d = min(d)\n",
    "        max_min = max_d-min_d\n",
    "        for e in d:\n",
    "            e += max_min\n",
    "        max_d = max(d)\n",
    "        min_d = min(d)\n",
    "        for e in d:\n",
    "            e = (e-min_d)/(max_d-min_d)\n",
    "    return data"
   ]
  },
  {
   "cell_type": "code",
   "execution_count": 22,
   "metadata": {},
   "outputs": [
    {
     "name": "stdout",
     "output_type": "stream",
     "text": [
      "<class 'list'> <class 'list'>\n"
     ]
    }
   ],
   "source": [
    "normalized_x_train = normalize(x_train)\n",
    "normalized_x_test = normalize(x_test)\n",
    "\n",
    "print(type(normalized_x_train), type(normalized_x_test))"
   ]
  },
  {
   "cell_type": "code",
   "execution_count": 23,
   "metadata": {},
   "outputs": [
    {
     "name": "stdout",
     "output_type": "stream",
     "text": [
      "<class 'numpy.ndarray'> <class 'numpy.ndarray'>\n"
     ]
    }
   ],
   "source": [
    "normalized_x_train = np.array(normalized_x_train)\n",
    "normalized_x_test = np.array(normalized_x_test)\n",
    "\n",
    "print(type(normalized_x_train), type(normalized_x_test))"
   ]
  },
  {
   "cell_type": "code",
   "execution_count": 24,
   "metadata": {},
   "outputs": [
    {
     "name": "stdout",
     "output_type": "stream",
     "text": [
      "<class 'numpy.ndarray'> <class 'numpy.ndarray'>\n",
      "(500, 100000) (100000,)\n",
      "(50000000,)\n"
     ]
    }
   ],
   "source": [
    "print(type(normalized_x_train), type(normalized_x_test))\n",
    "print(normalized_x_train.shape, normalized_x_train[0].shape)\n",
    "print(np.hstack(normalized_x_train).shape)"
   ]
  },
  {
   "cell_type": "code",
   "execution_count": 25,
   "metadata": {},
   "outputs": [
    {
     "name": "stdout",
     "output_type": "stream",
     "text": [
      "(50000000,)\n"
     ]
    }
   ],
   "source": [
    "normalized_x_train = np.hstack(normalized_x_train)\n",
    "print(normalized_x_train.shape)"
   ]
  },
  {
   "cell_type": "code",
   "execution_count": 27,
   "metadata": {},
   "outputs": [
    {
     "name": "stdout",
     "output_type": "stream",
     "text": [
      "(500, 100, 1000, 1)\n"
     ]
    }
   ],
   "source": [
    "normalized_x_train = normalized_x_train.reshape((500,100,1000,1))\n",
    "print(normalized_x_train.shape)"
   ]
  },
  {
   "cell_type": "code",
   "execution_count": 28,
   "metadata": {},
   "outputs": [
    {
     "name": "stdout",
     "output_type": "stream",
     "text": [
      "(50000000,)\n"
     ]
    }
   ],
   "source": [
    "normalized_x_test = np.hstack(normalized_x_test)\n",
    "print(normalized_x_test.shape)"
   ]
  },
  {
   "cell_type": "code",
   "execution_count": 29,
   "metadata": {},
   "outputs": [
    {
     "name": "stdout",
     "output_type": "stream",
     "text": [
      "(500, 100, 1000, 1)\n"
     ]
    }
   ],
   "source": [
    "normalized_x_test = normalized_x_test.reshape((500,100,1000,1))\n",
    "print(normalized_x_test.shape)"
   ]
  },
  {
   "cell_type": "code",
   "execution_count": 30,
   "metadata": {},
   "outputs": [
    {
     "name": "stderr",
     "output_type": "stream",
     "text": [
      "WARNING: Logging before flag parsing goes to stderr.\n",
      "W0624 01:18:08.778198 140342130190080 deprecation.py:506] From /usr/local/lib/python3.5/dist-packages/tensorflow/python/ops/init_ops.py:1251: calling VarianceScaling.__init__ (from tensorflow.python.ops.init_ops) with dtype is deprecated and will be removed in a future version.\n",
      "Instructions for updating:\n",
      "Call initializer instance with the dtype argument instead of passing it to the constructor\n"
     ]
    },
    {
     "name": "stdout",
     "output_type": "stream",
     "text": [
      "Model: \"sequential\"\n",
      "_________________________________________________________________\n",
      "Layer (type)                 Output Shape              Param #   \n",
      "=================================================================\n",
      "conv2d (Conv2D)              (None, 100, 1000, 64)     320       \n",
      "_________________________________________________________________\n",
      "max_pooling2d (MaxPooling2D) (None, 50, 500, 64)       0         \n",
      "_________________________________________________________________\n",
      "dropout (Dropout)            (None, 50, 500, 64)       0         \n",
      "_________________________________________________________________\n",
      "conv2d_1 (Conv2D)            (None, 50, 500, 32)       8224      \n",
      "_________________________________________________________________\n",
      "max_pooling2d_1 (MaxPooling2 (None, 25, 250, 32)       0         \n",
      "_________________________________________________________________\n",
      "dropout_1 (Dropout)          (None, 25, 250, 32)       0         \n",
      "_________________________________________________________________\n",
      "flatten (Flatten)            (None, 200000)            0         \n",
      "_________________________________________________________________\n",
      "dense (Dense)                (None, 256)               51200256  \n",
      "_________________________________________________________________\n",
      "dropout_2 (Dropout)          (None, 256)               0         \n",
      "_________________________________________________________________\n",
      "dense_1 (Dense)              (None, 10)                2570      \n",
      "=================================================================\n",
      "Total params: 51,211,370\n",
      "Trainable params: 51,211,370\n",
      "Non-trainable params: 0\n",
      "_________________________________________________________________\n"
     ]
    }
   ],
   "source": [
    "model = tf.keras.models.Sequential()\n",
    "# Must define the input shape in the first layer of the neural network\n",
    "model.add(tf.keras.layers.Conv2D(filters=64, kernel_size=2, padding='same', activation='relu', input_shape=(100,1000,1))) \n",
    "model.add(tf.keras.layers.MaxPooling2D(pool_size=2))\n",
    "model.add(tf.keras.layers.Dropout(0.3))\n",
    "model.add(tf.keras.layers.Conv2D(filters=32, kernel_size=2, padding='same', activation='relu'))\n",
    "model.add(tf.keras.layers.MaxPooling2D(pool_size=2))\n",
    "model.add(tf.keras.layers.Dropout(0.5))\n",
    "model.add(tf.keras.layers.Flatten())\n",
    "model.add(tf.keras.layers.Dense(256, activation='relu'))\n",
    "model.add(tf.keras.layers.Dropout(0.5))\n",
    "model.add(tf.keras.layers.Dense(10, activation='softmax'))\n",
    "# Take a look at the model summary\n",
    "model.summary()"
   ]
  },
  {
   "cell_type": "code",
   "execution_count": 31,
   "metadata": {},
   "outputs": [],
   "source": [
    "model.compile(loss='categorical_crossentropy',\n",
    "             optimizer='adam',\n",
    "             metrics=['accuracy'])"
   ]
  },
  {
   "cell_type": "code",
   "execution_count": 32,
   "metadata": {},
   "outputs": [
    {
     "name": "stdout",
     "output_type": "stream",
     "text": [
      "(500, 100, 1000, 1) (500, 10)\n",
      "Train on 450 samples, validate on 50 samples\n",
      "Epoch 1/10\n",
      "450/450 [==============================] - 22s 48ms/sample - loss: 2.2653 - acc: 0.2222 - val_loss: 2.3279 - val_acc: 0.0000e+00\n",
      "450/450 [==============================] - 21s 47ms/sample - loss: 2.2748 - acc: 0.2533 - val_loss: 2.3334 - val_acc: 0.0000e+00\n",
      "Epoch 5/10\n",
      "450/450 [==============================] - 22s 48ms/sample - loss: 2.2785 - acc: 0.2422 - val_loss: 2.3471 - val_acc: 0.0000e+00\n",
      "Epoch 6/10\n",
      "450/450 [==============================] - 21s 48ms/sample - loss: 2.2794 - acc: 0.2600 - val_loss: 2.3664 - val_acc: 0.0000e+00\n",
      "Epoch 7/10\n",
      "450/450 [==============================] - 22s 48ms/sample - loss: 2.2756 - acc: 0.2556 - val_loss: 2.3895 - val_acc: 0.0000e+00\n",
      "Epoch 8/10\n",
      "450/450 [==============================] - 22s 48ms/sample - loss: 2.2679 - acc: 0.2756 - val_loss: 2.4160 - val_acc: 0.0000e+00\n",
      "Epoch 9/10\n",
      "450/450 [==============================] - 22s 49ms/sample - loss: 2.2533 - acc: 0.3311 - val_loss: 2.4549 - val_acc: 0.0000e+00\n",
      "Epoch 10/10\n",
      "450/450 [==============================] - 22s 50ms/sample - loss: 2.2189 - acc: 0.3111 - val_loss: 2.5929 - val_acc: 0.0000e+00\n"
     ]
    },
    {
     "data": {
      "text/plain": [
       "<tensorflow.python.keras.callbacks.History at 0x7fa374d90860>"
      ]
     },
     "execution_count": 32,
     "metadata": {},
     "output_type": "execute_result"
    }
   ],
   "source": [
    "print(normalized_x_train.shape, np.array(y_train).shape)\n",
    "\n",
    "model.fit(normalized_x_train,\n",
    "         np.array(y_train),\n",
    "         batch_size=100,\n",
    "         epochs=10,\n",
    "         validation_split=0.1)"
   ]
  },
  {
   "cell_type": "code",
   "execution_count": 33,
   "metadata": {},
   "outputs": [
    {
     "name": "stdout",
     "output_type": "stream",
     "text": [
      "\n",
      " Test accuracy: 0.2\n"
     ]
    }
   ],
   "source": [
    "# Evaluate the model on test set\n",
    "score = model.evaluate(normalized_x_test, np.array(y_test), verbose=0)\n",
    "# Print test accuracy\n",
    "print('\\n', 'Test accuracy:', score[1])"
   ]
  },
  {
   "cell_type": "code",
   "execution_count": null,
   "metadata": {},
   "outputs": [],
   "source": []
  },
  {
   "cell_type": "code",
   "execution_count": null,
   "metadata": {},
   "outputs": [],
   "source": []
  }
 ],
 "metadata": {
  "kernelspec": {
   "display_name": "Python 3",
   "language": "python",
   "name": "python3"
  },
  "language_info": {
   "codemirror_mode": {
    "name": "ipython",
    "version": 3
   },
   "file_extension": ".py",
   "mimetype": "text/x-python",
   "name": "python",
   "nbconvert_exporter": "python",
   "pygments_lexer": "ipython3",
   "version": "3.5.3"
  }
 },
 "nbformat": 4,
 "nbformat_minor": 2
}
