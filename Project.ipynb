{
 "cells": [
  {
   "cell_type": "code",
   "execution_count": 3,
   "metadata": {},
   "outputs": [],
   "source": [
    "import pandas as pd\n",
    "import numpy as np\n",
    "import seaborn as sns\n",
    "import tensorflow as tf\n",
    "import os\n",
    "import librosa as lbrs\n",
    "import wave as wv\n",
    "import glob"
   ]
  },
  {
   "cell_type": "code",
   "execution_count": 6,
   "metadata": {},
   "outputs": [],
   "source": [
    "path = \"C:\\\\Users\\\\yioua\\\\Documents\\\\UCSC\\\\Deep Learning and Artificial Intelligence with TensorFlow\\\\Final Project\\\\dl_music\\\\genres\""
   ]
  },
  {
   "cell_type": "code",
   "execution_count": 7,
   "metadata": {},
   "outputs": [
    {
     "data": {
      "text/plain": [
       "['C:\\\\Users\\\\yioua\\\\Documents\\\\UCSC\\\\Deep Learning and Artificial Intelligence with TensorFlow\\\\Final Project\\\\dl_music\\\\genres\\\\blues\\\\',\n",
       " 'C:\\\\Users\\\\yioua\\\\Documents\\\\UCSC\\\\Deep Learning and Artificial Intelligence with TensorFlow\\\\Final Project\\\\dl_music\\\\genres\\\\classical\\\\',\n",
       " 'C:\\\\Users\\\\yioua\\\\Documents\\\\UCSC\\\\Deep Learning and Artificial Intelligence with TensorFlow\\\\Final Project\\\\dl_music\\\\genres\\\\country\\\\',\n",
       " 'C:\\\\Users\\\\yioua\\\\Documents\\\\UCSC\\\\Deep Learning and Artificial Intelligence with TensorFlow\\\\Final Project\\\\dl_music\\\\genres\\\\disco\\\\',\n",
       " 'C:\\\\Users\\\\yioua\\\\Documents\\\\UCSC\\\\Deep Learning and Artificial Intelligence with TensorFlow\\\\Final Project\\\\dl_music\\\\genres\\\\hiphop\\\\',\n",
       " 'C:\\\\Users\\\\yioua\\\\Documents\\\\UCSC\\\\Deep Learning and Artificial Intelligence with TensorFlow\\\\Final Project\\\\dl_music\\\\genres\\\\jazz\\\\',\n",
       " 'C:\\\\Users\\\\yioua\\\\Documents\\\\UCSC\\\\Deep Learning and Artificial Intelligence with TensorFlow\\\\Final Project\\\\dl_music\\\\genres\\\\metal\\\\',\n",
       " 'C:\\\\Users\\\\yioua\\\\Documents\\\\UCSC\\\\Deep Learning and Artificial Intelligence with TensorFlow\\\\Final Project\\\\dl_music\\\\genres\\\\pop\\\\',\n",
       " 'C:\\\\Users\\\\yioua\\\\Documents\\\\UCSC\\\\Deep Learning and Artificial Intelligence with TensorFlow\\\\Final Project\\\\dl_music\\\\genres\\\\reggae\\\\',\n",
       " 'C:\\\\Users\\\\yioua\\\\Documents\\\\UCSC\\\\Deep Learning and Artificial Intelligence with TensorFlow\\\\Final Project\\\\dl_music\\\\genres\\\\rock\\\\']"
      ]
     },
     "execution_count": 7,
     "metadata": {},
     "output_type": "execute_result"
    }
   ],
   "source": [
    "glob.glob(path + \"\\\\*\\\\\")"
   ]
  },
  {
   "cell_type": "code",
   "execution_count": 31,
   "metadata": {},
   "outputs": [
    {
     "name": "stdout",
     "output_type": "stream",
     "text": [
      "1 22050 30.013333333333332\n",
      "647\n"
     ]
    }
   ],
   "source": [
    "import audioread as ar\n",
    "file = path+\"\\\\blues\\\\blues.00000.au\"\n",
    "with ar.audio_open(file) as f:\n",
    "    i=0\n",
    "    print(f.channels, f.samplerate, f.duration)\n",
    "    for buf in f:\n",
    "        i+=1\n",
    "    print(i)"
   ]
  },
  {
   "cell_type": "code",
   "execution_count": 35,
   "metadata": {},
   "outputs": [
    {
     "name": "stdout",
     "output_type": "stream",
     "text": [
      "<sunau.Au_read object at 0x000002042AE81438>\n"
     ]
    }
   ],
   "source": [
    "import sunau\n",
    "with sunau.open(file) as f:\n",
    "    print(f)"
   ]
  },
  {
   "cell_type": "code",
   "execution_count": 50,
   "metadata": {},
   "outputs": [
    {
     "data": {
      "text/plain": [
       "323.0"
      ]
     },
     "execution_count": 50,
     "metadata": {},
     "output_type": "execute_result"
    }
   ],
   "source": [
    "646*2048/(16*16*16)"
   ]
  },
  {
   "cell_type": "code",
   "execution_count": 42,
   "metadata": {},
   "outputs": [
    {
     "data": {
      "text/plain": [
       "2048"
      ]
     },
     "execution_count": 42,
     "metadata": {},
     "output_type": "execute_result"
    }
   ],
   "source": [
    "2**11"
   ]
  },
  {
   "cell_type": "code",
   "execution_count": 8,
   "metadata": {},
   "outputs": [
    {
     "name": "stdout",
     "output_type": "stream",
     "text": [
      "C:\\Users\\yioua\\Documents\\UCSC\\Deep Learning and Artificial Intelligence with TensorFlow\\Final Project\\dl_music\\genres\\blues\n",
      "C:\\Users\\yioua\\Documents\\UCSC\\Deep Learning and Artificial Intelligence with TensorFlow\\Final Project\\dl_music\\genres\\blues\\blues.00000.au\n",
      "C:\\Users\\yioua\\Documents\\UCSC\\Deep Learning and Artificial Intelligence with TensorFlow\\Final Project\\dl_music\\genres\\blues\\blues.00001.au\n",
      "C:\\Users\\yioua\\Documents\\UCSC\\Deep Learning and Artificial Intelligence with TensorFlow\\Final Project\\dl_music\\genres\\blues\\blues.00002.au\n",
      "C:\\Users\\yioua\\Documents\\UCSC\\Deep Learning and Artificial Intelligence with TensorFlow\\Final Project\\dl_music\\genres\\blues\\blues.00003.au\n",
      "C:\\Users\\yioua\\Documents\\UCSC\\Deep Learning and Artificial Intelligence with TensorFlow\\Final Project\\dl_music\\genres\\blues\\blues.00004.au\n",
      "C:\\Users\\yioua\\Documents\\UCSC\\Deep Learning and Artificial Intelligence with TensorFlow\\Final Project\\dl_music\\genres\\blues\\blues.00005.au\n",
      "C:\\Users\\yioua\\Documents\\UCSC\\Deep Learning and Artificial Intelligence with TensorFlow\\Final Project\\dl_music\\genres\\blues\\blues.00006.au\n",
      "C:\\Users\\yioua\\Documents\\UCSC\\Deep Learning and Artificial Intelligence with TensorFlow\\Final Project\\dl_music\\genres\\blues\\blues.00007.au\n",
      "C:\\Users\\yioua\\Documents\\UCSC\\Deep Learning and Artificial Intelligence with TensorFlow\\Final Project\\dl_music\\genres\\blues\\blues.00008.au\n",
      "C:\\Users\\yioua\\Documents\\UCSC\\Deep Learning and Artificial Intelligence with TensorFlow\\Final Project\\dl_music\\genres\\blues\\blues.00009.au\n",
      "C:\\Users\\yioua\\Documents\\UCSC\\Deep Learning and Artificial Intelligence with TensorFlow\\Final Project\\dl_music\\genres\\blues\\blues.00010.au\n",
      "C:\\Users\\yioua\\Documents\\UCSC\\Deep Learning and Artificial Intelligence with TensorFlow\\Final Project\\dl_music\\genres\\blues\\blues.00011.au\n",
      "C:\\Users\\yioua\\Documents\\UCSC\\Deep Learning and Artificial Intelligence with TensorFlow\\Final Project\\dl_music\\genres\\blues\\blues.00012.au\n",
      "C:\\Users\\yioua\\Documents\\UCSC\\Deep Learning and Artificial Intelligence with TensorFlow\\Final Project\\dl_music\\genres\\blues\\blues.00013.au\n",
      "C:\\Users\\yioua\\Documents\\UCSC\\Deep Learning and Artificial Intelligence with TensorFlow\\Final Project\\dl_music\\genres\\blues\\blues.00014.au\n",
      "C:\\Users\\yioua\\Documents\\UCSC\\Deep Learning and Artificial Intelligence with TensorFlow\\Final Project\\dl_music\\genres\\blues\\blues.00015.au\n",
      "C:\\Users\\yioua\\Documents\\UCSC\\Deep Learning and Artificial Intelligence with TensorFlow\\Final Project\\dl_music\\genres\\blues\\blues.00016.au\n",
      "C:\\Users\\yioua\\Documents\\UCSC\\Deep Learning and Artificial Intelligence with TensorFlow\\Final Project\\dl_music\\genres\\blues\\blues.00017.au\n",
      "C:\\Users\\yioua\\Documents\\UCSC\\Deep Learning and Artificial Intelligence with TensorFlow\\Final Project\\dl_music\\genres\\blues\\blues.00018.au\n",
      "C:\\Users\\yioua\\Documents\\UCSC\\Deep Learning and Artificial Intelligence with TensorFlow\\Final Project\\dl_music\\genres\\blues\\blues.00019.au\n",
      "C:\\Users\\yioua\\Documents\\UCSC\\Deep Learning and Artificial Intelligence with TensorFlow\\Final Project\\dl_music\\genres\\blues\\blues.00020.au\n",
      "C:\\Users\\yioua\\Documents\\UCSC\\Deep Learning and Artificial Intelligence with TensorFlow\\Final Project\\dl_music\\genres\\blues\\blues.00021.au\n",
      "C:\\Users\\yioua\\Documents\\UCSC\\Deep Learning and Artificial Intelligence with TensorFlow\\Final Project\\dl_music\\genres\\blues\\blues.00022.au\n",
      "C:\\Users\\yioua\\Documents\\UCSC\\Deep Learning and Artificial Intelligence with TensorFlow\\Final Project\\dl_music\\genres\\blues\\blues.00023.au\n",
      "C:\\Users\\yioua\\Documents\\UCSC\\Deep Learning and Artificial Intelligence with TensorFlow\\Final Project\\dl_music\\genres\\blues\\blues.00024.au\n",
      "C:\\Users\\yioua\\Documents\\UCSC\\Deep Learning and Artificial Intelligence with TensorFlow\\Final Project\\dl_music\\genres\\blues\\blues.00025.au\n",
      "C:\\Users\\yioua\\Documents\\UCSC\\Deep Learning and Artificial Intelligence with TensorFlow\\Final Project\\dl_music\\genres\\blues\\blues.00026.au\n",
      "C:\\Users\\yioua\\Documents\\UCSC\\Deep Learning and Artificial Intelligence with TensorFlow\\Final Project\\dl_music\\genres\\blues\\blues.00027.au\n",
      "C:\\Users\\yioua\\Documents\\UCSC\\Deep Learning and Artificial Intelligence with TensorFlow\\Final Project\\dl_music\\genres\\blues\\blues.00028.au\n",
      "C:\\Users\\yioua\\Documents\\UCSC\\Deep Learning and Artificial Intelligence with TensorFlow\\Final Project\\dl_music\\genres\\blues\\blues.00029.au\n",
      "C:\\Users\\yioua\\Documents\\UCSC\\Deep Learning and Artificial Intelligence with TensorFlow\\Final Project\\dl_music\\genres\\blues\\blues.00030.au\n",
      "C:\\Users\\yioua\\Documents\\UCSC\\Deep Learning and Artificial Intelligence with TensorFlow\\Final Project\\dl_music\\genres\\blues\\blues.00031.au\n",
      "C:\\Users\\yioua\\Documents\\UCSC\\Deep Learning and Artificial Intelligence with TensorFlow\\Final Project\\dl_music\\genres\\blues\\blues.00032.au\n",
      "C:\\Users\\yioua\\Documents\\UCSC\\Deep Learning and Artificial Intelligence with TensorFlow\\Final Project\\dl_music\\genres\\blues\\blues.00033.au\n",
      "C:\\Users\\yioua\\Documents\\UCSC\\Deep Learning and Artificial Intelligence with TensorFlow\\Final Project\\dl_music\\genres\\blues\\blues.00034.au\n",
      "C:\\Users\\yioua\\Documents\\UCSC\\Deep Learning and Artificial Intelligence with TensorFlow\\Final Project\\dl_music\\genres\\blues\\blues.00035.au\n",
      "C:\\Users\\yioua\\Documents\\UCSC\\Deep Learning and Artificial Intelligence with TensorFlow\\Final Project\\dl_music\\genres\\blues\\blues.00036.au\n",
      "C:\\Users\\yioua\\Documents\\UCSC\\Deep Learning and Artificial Intelligence with TensorFlow\\Final Project\\dl_music\\genres\\blues\\blues.00037.au\n",
      "C:\\Users\\yioua\\Documents\\UCSC\\Deep Learning and Artificial Intelligence with TensorFlow\\Final Project\\dl_music\\genres\\blues\\blues.00038.au\n",
      "C:\\Users\\yioua\\Documents\\UCSC\\Deep Learning and Artificial Intelligence with TensorFlow\\Final Project\\dl_music\\genres\\blues\\blues.00039.au\n",
      "C:\\Users\\yioua\\Documents\\UCSC\\Deep Learning and Artificial Intelligence with TensorFlow\\Final Project\\dl_music\\genres\\blues\\blues.00040.au\n",
      "C:\\Users\\yioua\\Documents\\UCSC\\Deep Learning and Artificial Intelligence with TensorFlow\\Final Project\\dl_music\\genres\\blues\\blues.00041.au\n",
      "C:\\Users\\yioua\\Documents\\UCSC\\Deep Learning and Artificial Intelligence with TensorFlow\\Final Project\\dl_music\\genres\\blues\\blues.00042.au\n",
      "C:\\Users\\yioua\\Documents\\UCSC\\Deep Learning and Artificial Intelligence with TensorFlow\\Final Project\\dl_music\\genres\\blues\\blues.00043.au\n",
      "C:\\Users\\yioua\\Documents\\UCSC\\Deep Learning and Artificial Intelligence with TensorFlow\\Final Project\\dl_music\\genres\\blues\\blues.00044.au\n",
      "C:\\Users\\yioua\\Documents\\UCSC\\Deep Learning and Artificial Intelligence with TensorFlow\\Final Project\\dl_music\\genres\\blues\\blues.00045.au\n",
      "C:\\Users\\yioua\\Documents\\UCSC\\Deep Learning and Artificial Intelligence with TensorFlow\\Final Project\\dl_music\\genres\\blues\\blues.00046.au\n",
      "C:\\Users\\yioua\\Documents\\UCSC\\Deep Learning and Artificial Intelligence with TensorFlow\\Final Project\\dl_music\\genres\\blues\\blues.00047.au\n",
      "C:\\Users\\yioua\\Documents\\UCSC\\Deep Learning and Artificial Intelligence with TensorFlow\\Final Project\\dl_music\\genres\\blues\\blues.00048.au\n",
      "C:\\Users\\yioua\\Documents\\UCSC\\Deep Learning and Artificial Intelligence with TensorFlow\\Final Project\\dl_music\\genres\\blues\\blues.00049.au\n",
      "C:\\Users\\yioua\\Documents\\UCSC\\Deep Learning and Artificial Intelligence with TensorFlow\\Final Project\\dl_music\\genres\\blues\\blues.00050.au\n",
      "C:\\Users\\yioua\\Documents\\UCSC\\Deep Learning and Artificial Intelligence with TensorFlow\\Final Project\\dl_music\\genres\\blues\\blues.00051.au\n",
      "C:\\Users\\yioua\\Documents\\UCSC\\Deep Learning and Artificial Intelligence with TensorFlow\\Final Project\\dl_music\\genres\\blues\\blues.00052.au\n",
      "C:\\Users\\yioua\\Documents\\UCSC\\Deep Learning and Artificial Intelligence with TensorFlow\\Final Project\\dl_music\\genres\\blues\\blues.00053.au\n",
      "C:\\Users\\yioua\\Documents\\UCSC\\Deep Learning and Artificial Intelligence with TensorFlow\\Final Project\\dl_music\\genres\\blues\\blues.00054.au\n",
      "C:\\Users\\yioua\\Documents\\UCSC\\Deep Learning and Artificial Intelligence with TensorFlow\\Final Project\\dl_music\\genres\\blues\\blues.00055.au\n",
      "C:\\Users\\yioua\\Documents\\UCSC\\Deep Learning and Artificial Intelligence with TensorFlow\\Final Project\\dl_music\\genres\\blues\\blues.00056.au\n",
      "C:\\Users\\yioua\\Documents\\UCSC\\Deep Learning and Artificial Intelligence with TensorFlow\\Final Project\\dl_music\\genres\\blues\\blues.00057.au\n",
      "C:\\Users\\yioua\\Documents\\UCSC\\Deep Learning and Artificial Intelligence with TensorFlow\\Final Project\\dl_music\\genres\\blues\\blues.00058.au\n",
      "C:\\Users\\yioua\\Documents\\UCSC\\Deep Learning and Artificial Intelligence with TensorFlow\\Final Project\\dl_music\\genres\\blues\\blues.00059.au\n",
      "C:\\Users\\yioua\\Documents\\UCSC\\Deep Learning and Artificial Intelligence with TensorFlow\\Final Project\\dl_music\\genres\\blues\\blues.00060.au\n",
      "C:\\Users\\yioua\\Documents\\UCSC\\Deep Learning and Artificial Intelligence with TensorFlow\\Final Project\\dl_music\\genres\\blues\\blues.00061.au\n",
      "C:\\Users\\yioua\\Documents\\UCSC\\Deep Learning and Artificial Intelligence with TensorFlow\\Final Project\\dl_music\\genres\\blues\\blues.00062.au\n",
      "C:\\Users\\yioua\\Documents\\UCSC\\Deep Learning and Artificial Intelligence with TensorFlow\\Final Project\\dl_music\\genres\\blues\\blues.00063.au\n",
      "C:\\Users\\yioua\\Documents\\UCSC\\Deep Learning and Artificial Intelligence with TensorFlow\\Final Project\\dl_music\\genres\\blues\\blues.00064.au\n",
      "C:\\Users\\yioua\\Documents\\UCSC\\Deep Learning and Artificial Intelligence with TensorFlow\\Final Project\\dl_music\\genres\\blues\\blues.00065.au\n",
      "C:\\Users\\yioua\\Documents\\UCSC\\Deep Learning and Artificial Intelligence with TensorFlow\\Final Project\\dl_music\\genres\\blues\\blues.00066.au\n",
      "C:\\Users\\yioua\\Documents\\UCSC\\Deep Learning and Artificial Intelligence with TensorFlow\\Final Project\\dl_music\\genres\\blues\\blues.00067.au\n",
      "C:\\Users\\yioua\\Documents\\UCSC\\Deep Learning and Artificial Intelligence with TensorFlow\\Final Project\\dl_music\\genres\\blues\\blues.00068.au\n",
      "C:\\Users\\yioua\\Documents\\UCSC\\Deep Learning and Artificial Intelligence with TensorFlow\\Final Project\\dl_music\\genres\\blues\\blues.00069.au\n",
      "C:\\Users\\yioua\\Documents\\UCSC\\Deep Learning and Artificial Intelligence with TensorFlow\\Final Project\\dl_music\\genres\\blues\\blues.00070.au\n",
      "C:\\Users\\yioua\\Documents\\UCSC\\Deep Learning and Artificial Intelligence with TensorFlow\\Final Project\\dl_music\\genres\\blues\\blues.00071.au\n",
      "C:\\Users\\yioua\\Documents\\UCSC\\Deep Learning and Artificial Intelligence with TensorFlow\\Final Project\\dl_music\\genres\\blues\\blues.00072.au\n",
      "C:\\Users\\yioua\\Documents\\UCSC\\Deep Learning and Artificial Intelligence with TensorFlow\\Final Project\\dl_music\\genres\\blues\\blues.00073.au\n",
      "C:\\Users\\yioua\\Documents\\UCSC\\Deep Learning and Artificial Intelligence with TensorFlow\\Final Project\\dl_music\\genres\\blues\\blues.00074.au\n",
      "C:\\Users\\yioua\\Documents\\UCSC\\Deep Learning and Artificial Intelligence with TensorFlow\\Final Project\\dl_music\\genres\\blues\\blues.00075.au\n",
      "C:\\Users\\yioua\\Documents\\UCSC\\Deep Learning and Artificial Intelligence with TensorFlow\\Final Project\\dl_music\\genres\\blues\\blues.00076.au\n",
      "C:\\Users\\yioua\\Documents\\UCSC\\Deep Learning and Artificial Intelligence with TensorFlow\\Final Project\\dl_music\\genres\\blues\\blues.00077.au\n",
      "C:\\Users\\yioua\\Documents\\UCSC\\Deep Learning and Artificial Intelligence with TensorFlow\\Final Project\\dl_music\\genres\\blues\\blues.00078.au\n",
      "C:\\Users\\yioua\\Documents\\UCSC\\Deep Learning and Artificial Intelligence with TensorFlow\\Final Project\\dl_music\\genres\\blues\\blues.00079.au\n",
      "C:\\Users\\yioua\\Documents\\UCSC\\Deep Learning and Artificial Intelligence with TensorFlow\\Final Project\\dl_music\\genres\\blues\\blues.00080.au\n",
      "C:\\Users\\yioua\\Documents\\UCSC\\Deep Learning and Artificial Intelligence with TensorFlow\\Final Project\\dl_music\\genres\\blues\\blues.00081.au\n",
      "C:\\Users\\yioua\\Documents\\UCSC\\Deep Learning and Artificial Intelligence with TensorFlow\\Final Project\\dl_music\\genres\\blues\\blues.00082.au\n",
      "C:\\Users\\yioua\\Documents\\UCSC\\Deep Learning and Artificial Intelligence with TensorFlow\\Final Project\\dl_music\\genres\\blues\\blues.00083.au\n",
      "C:\\Users\\yioua\\Documents\\UCSC\\Deep Learning and Artificial Intelligence with TensorFlow\\Final Project\\dl_music\\genres\\blues\\blues.00084.au\n",
      "C:\\Users\\yioua\\Documents\\UCSC\\Deep Learning and Artificial Intelligence with TensorFlow\\Final Project\\dl_music\\genres\\blues\\blues.00085.au\n",
      "C:\\Users\\yioua\\Documents\\UCSC\\Deep Learning and Artificial Intelligence with TensorFlow\\Final Project\\dl_music\\genres\\blues\\blues.00086.au\n",
      "C:\\Users\\yioua\\Documents\\UCSC\\Deep Learning and Artificial Intelligence with TensorFlow\\Final Project\\dl_music\\genres\\blues\\blues.00087.au\n",
      "C:\\Users\\yioua\\Documents\\UCSC\\Deep Learning and Artificial Intelligence with TensorFlow\\Final Project\\dl_music\\genres\\blues\\blues.00088.au\n",
      "C:\\Users\\yioua\\Documents\\UCSC\\Deep Learning and Artificial Intelligence with TensorFlow\\Final Project\\dl_music\\genres\\blues\\blues.00089.au\n",
      "C:\\Users\\yioua\\Documents\\UCSC\\Deep Learning and Artificial Intelligence with TensorFlow\\Final Project\\dl_music\\genres\\blues\\blues.00090.au\n",
      "C:\\Users\\yioua\\Documents\\UCSC\\Deep Learning and Artificial Intelligence with TensorFlow\\Final Project\\dl_music\\genres\\blues\\blues.00091.au\n",
      "C:\\Users\\yioua\\Documents\\UCSC\\Deep Learning and Artificial Intelligence with TensorFlow\\Final Project\\dl_music\\genres\\blues\\blues.00092.au\n",
      "C:\\Users\\yioua\\Documents\\UCSC\\Deep Learning and Artificial Intelligence with TensorFlow\\Final Project\\dl_music\\genres\\blues\\blues.00093.au\n",
      "C:\\Users\\yioua\\Documents\\UCSC\\Deep Learning and Artificial Intelligence with TensorFlow\\Final Project\\dl_music\\genres\\blues\\blues.00094.au\n",
      "C:\\Users\\yioua\\Documents\\UCSC\\Deep Learning and Artificial Intelligence with TensorFlow\\Final Project\\dl_music\\genres\\blues\\blues.00095.au\n",
      "C:\\Users\\yioua\\Documents\\UCSC\\Deep Learning and Artificial Intelligence with TensorFlow\\Final Project\\dl_music\\genres\\blues\\blues.00096.au\n",
      "C:\\Users\\yioua\\Documents\\UCSC\\Deep Learning and Artificial Intelligence with TensorFlow\\Final Project\\dl_music\\genres\\blues\\blues.00097.au\n",
      "C:\\Users\\yioua\\Documents\\UCSC\\Deep Learning and Artificial Intelligence with TensorFlow\\Final Project\\dl_music\\genres\\blues\\blues.00098.au\n",
      "C:\\Users\\yioua\\Documents\\UCSC\\Deep Learning and Artificial Intelligence with TensorFlow\\Final Project\\dl_music\\genres\\blues\\blues.00099.au\n"
     ]
    }
   ],
   "source": [
    "for e in glob.glob(path + \"\\\\*\"):\n",
    "    print(e)\n",
    "    for e2 in glob.glob(e + \"\\\\*\"):\n",
    "        print(e2)\n",
    "    break"
   ]
  },
  {
   "cell_type": "code",
   "execution_count": null,
   "metadata": {},
   "outputs": [],
   "source": []
  }
 ],
 "metadata": {
  "kernelspec": {
   "display_name": "Python 3",
   "language": "python",
   "name": "python3"
  },
  "language_info": {
   "codemirror_mode": {
    "name": "ipython",
    "version": 3
   },
   "file_extension": ".py",
   "mimetype": "text/x-python",
   "name": "python",
   "nbconvert_exporter": "python",
   "pygments_lexer": "ipython3",
   "version": "3.5.2"
  },
  "widgets": {
   "state": {},
   "version": "1.1.2"
  }
 },
 "nbformat": 4,
 "nbformat_minor": 2
}
