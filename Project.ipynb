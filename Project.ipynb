{
 "cells": [
  {
   "cell_type": "code",
   "execution_count": 17,
   "metadata": {},
   "outputs": [],
   "source": [
    "import pandas as pd\n",
    "import numpy as np\n",
    "import seaborn as sns\n",
    "import tensorflow as tf\n",
    "import os\n",
    "import librosa as lbrs\n",
    "import wave as wv\n",
    "import glob\n",
    "import audioread as ar\n",
    "import binascii"
   ]
  },
  {
   "cell_type": "code",
   "execution_count": 18,
   "metadata": {},
   "outputs": [],
   "source": [
    "path = \"C:\\\\Users\\\\yioua\\\\Documents\\\\UCSC\\\\Deep Learning and Artificial Intelligence with TensorFlow\\\\Final Project\\\\dl_music\\\\genres\""
   ]
  },
  {
   "cell_type": "code",
   "execution_count": 19,
   "metadata": {},
   "outputs": [
    {
     "data": {
      "text/plain": [
       "['C:\\\\Users\\\\yioua\\\\Documents\\\\UCSC\\\\Deep Learning and Artificial Intelligence with TensorFlow\\\\Final Project\\\\dl_music\\\\genres\\\\blues\\\\',\n",
       " 'C:\\\\Users\\\\yioua\\\\Documents\\\\UCSC\\\\Deep Learning and Artificial Intelligence with TensorFlow\\\\Final Project\\\\dl_music\\\\genres\\\\classical\\\\',\n",
       " 'C:\\\\Users\\\\yioua\\\\Documents\\\\UCSC\\\\Deep Learning and Artificial Intelligence with TensorFlow\\\\Final Project\\\\dl_music\\\\genres\\\\country\\\\',\n",
       " 'C:\\\\Users\\\\yioua\\\\Documents\\\\UCSC\\\\Deep Learning and Artificial Intelligence with TensorFlow\\\\Final Project\\\\dl_music\\\\genres\\\\disco\\\\',\n",
       " 'C:\\\\Users\\\\yioua\\\\Documents\\\\UCSC\\\\Deep Learning and Artificial Intelligence with TensorFlow\\\\Final Project\\\\dl_music\\\\genres\\\\hiphop\\\\',\n",
       " 'C:\\\\Users\\\\yioua\\\\Documents\\\\UCSC\\\\Deep Learning and Artificial Intelligence with TensorFlow\\\\Final Project\\\\dl_music\\\\genres\\\\jazz\\\\',\n",
       " 'C:\\\\Users\\\\yioua\\\\Documents\\\\UCSC\\\\Deep Learning and Artificial Intelligence with TensorFlow\\\\Final Project\\\\dl_music\\\\genres\\\\metal\\\\',\n",
       " 'C:\\\\Users\\\\yioua\\\\Documents\\\\UCSC\\\\Deep Learning and Artificial Intelligence with TensorFlow\\\\Final Project\\\\dl_music\\\\genres\\\\pop\\\\',\n",
       " 'C:\\\\Users\\\\yioua\\\\Documents\\\\UCSC\\\\Deep Learning and Artificial Intelligence with TensorFlow\\\\Final Project\\\\dl_music\\\\genres\\\\reggae\\\\',\n",
       " 'C:\\\\Users\\\\yioua\\\\Documents\\\\UCSC\\\\Deep Learning and Artificial Intelligence with TensorFlow\\\\Final Project\\\\dl_music\\\\genres\\\\rock\\\\']"
      ]
     },
     "execution_count": 19,
     "metadata": {},
     "output_type": "execute_result"
    }
   ],
   "source": [
    "glob.glob(path + \"\\\\*\\\\\")"
   ]
  },
  {
   "cell_type": "code",
   "execution_count": 20,
   "metadata": {},
   "outputs": [
    {
     "name": "stdout",
     "output_type": "stream",
     "text": [
      "1 22050 30.013333333333332\n",
      "647\n"
     ]
    }
   ],
   "source": [
    "import audioread as ar\n",
    "file = path+\"\\\\blues\\\\blues.00000.au\"\n",
    "with ar.audio_open(file) as f:\n",
    "    i=0\n",
    "    print(f.channels, f.samplerate, f.duration)\n",
    "    for buf in f:\n",
    "        i+=1\n",
    "    print(i)"
   ]
  },
  {
   "cell_type": "code",
   "execution_count": 108,
   "metadata": {},
   "outputs": [
    {
     "name": "stdout",
     "output_type": "stream",
     "text": [
      "C:\\Users\\yioua\\Documents\\UCSC\\Deep Learning and Artificial Intelligence with TensorFlow\\Final Project\\dl_music\\genres\\blues\\blues.00000.au\n",
      "1 22050 30.013333333333332\n",
      "647 1323588\n",
      "[[240   0  32 ... 254 247 254]\n",
      " [101 253 101 ... 251  14 248]\n",
      " [ 47 247  47 ...   3 115   5]\n",
      " ...\n",
      " [ 76 248 201 ... 243 220 242]\n",
      " [ 21 245 244 ...  20  94  19]\n",
      " [199  10 148 ...   0   0   0]] (647, 2048) 2048 [248  47 248 201 247   0   0   0   0   0]\n",
      "C:\\Users\\yioua\\Documents\\UCSC\\Deep Learning and Artificial Intelligence with TensorFlow\\Final Project\\dl_music\\genres\\classical\\classical.00000.au\n",
      "1 22050 30.013333333333332\n",
      "647 1323588\n",
      "[[110 253 195 ...   4 137   4]\n",
      " [ 98   3 206 ... 254  14 255]\n",
      " [  9   0 110 ... 252 174 253]\n",
      " ...\n",
      " [241 255 223 ...   1 197   1]\n",
      " [ 90   1 133 ...   2 222   2]\n",
      " [ 57   3 245 ...   0   0   0]] (647, 2048) 2048 [  2 142   3   2   4   0   0   0   0   0]\n",
      "C:\\Users\\yioua\\Documents\\UCSC\\Deep Learning and Artificial Intelligence with TensorFlow\\Final Project\\dl_music\\genres\\country\\country.00000.au\n",
      "1 22050 30.081632653061224\n",
      "648 1326600\n",
      "[[212 238  15 ...   6 127   0]\n",
      " [218 255  34 ...  62 229  64]\n",
      " [ 86  67 172 ...  43  56  37]\n",
      " ...\n",
      " [ 83 241 252 ... 230   1 232]\n",
      " [ 75 217 215 ...  10 235  37]\n",
      " [ 55  19 218 ...   0   0   0]] (648, 2048) 2048 [  2 126  13 158  27  87  22 254  39 124]\n",
      "C:\\Users\\yioua\\Documents\\UCSC\\Deep Learning and Artificial Intelligence with TensorFlow\\Final Project\\dl_music\\genres\\disco\\disco.00000.au\n",
      "1 22050 30.12154195011338\n",
      "649 1328360\n",
      "[[ 77 226  88 ...   6  84  11]\n",
      " [ 74  12 194 ...  21  32  20]\n",
      " [128  16 190 ...  52  27  52]\n",
      " ...\n",
      " [254  35 159 ...   4 148   6]\n",
      " [105   3 200 ...  44  24  45]\n",
      " [249  39 167 ...   0   0   0]] (649, 2048) 2048 [248  91 240  60 236 170 234 238 232 154]\n",
      "C:\\Users\\yioua\\Documents\\UCSC\\Deep Learning and Artificial Intelligence with TensorFlow\\Final Project\\dl_music\\genres\\hiphop\\hiphop.00000.au\n",
      "1 22050 30.00018140589569\n",
      "646 1323008\n",
      "[[ 89 234  57 ... 233 178 231]\n",
      " [ 67 232 141 ...   0  52 254]\n",
      " [ 77   5  69 ...   4 214 255]\n",
      " ...\n",
      " [ 80  10  22 ... 234 167 194]\n",
      " [235 204 101 ... 247 173  13]\n",
      " [ 79   4  64 ...   4  78 253]] (646, 2048) 2048 [ 11  96  20  66  23 226  18 254 254 248]\n",
      "C:\\Users\\yioua\\Documents\\UCSC\\Deep Learning and Artificial Intelligence with TensorFlow\\Final Project\\dl_music\\genres\\jazz\\jazz.00000.au\n",
      "1 22050 30.013333333333332\n",
      "647 1323588\n",
      "[[209 254 126 ... 251 146 252]\n",
      " [235 253  39 ... 253 196 253]\n",
      " [221 253 104 ... 253 150 253]\n",
      " ...\n",
      " [239   2 202 ...   5 193   5]\n",
      " [195   5 195 ...   1 193   1]\n",
      " [190   1 202 ...   0   0   0]] (647, 2048) 2048 [  0 184   0 184   0   0   0   0   0   0]\n",
      "C:\\Users\\yioua\\Documents\\UCSC\\Deep Learning and Artificial Intelligence with TensorFlow\\Final Project\\dl_music\\genres\\metal\\metal.00000.au\n",
      "1 22050 30.00018140589569\n",
      "646 1323008\n",
      "[[ 86 240 180 ... 249 126   0]\n",
      " [ 27  14 138 ...  14 231  27]\n",
      " [ 94  24 101 ... 235 224 242]\n",
      " ...\n",
      " [173  36 168 ...  18  10  21]\n",
      " [245  32 115 ...   4  36 249]\n",
      " [ 66   4 114 ... 245  91 252]] (646, 2048) 2048 [253  10 255  15   0 214   0 255 255  97]\n",
      "C:\\Users\\yioua\\Documents\\UCSC\\Deep Learning and Artificial Intelligence with TensorFlow\\Final Project\\dl_music\\genres\\pop\\pop.00000.au\n",
      "1 22050 30.00018140589569\n",
      "646 1323008\n",
      "[[165 244 207 ...  19  25  30]\n",
      " [ 60  25 208 ...  10 134  22]\n",
      " [149   7  40 ...  21 189  19]\n",
      " ...\n",
      " [135 253  21 ... 215 243 223]\n",
      " [171 224  56 ...  47  32  39]\n",
      " [ 96  34 188 ...   4  97   3]] (646, 2048) 2048 [ 47 128  43 106  27 163  28 149  30 175]\n",
      "C:\\Users\\yioua\\Documents\\UCSC\\Deep Learning and Artificial Intelligence with TensorFlow\\Final Project\\dl_music\\genres\\reggae\\reggae.00000.au\n",
      "1 22050 30.013333333333332\n",
      "647 1323588\n",
      "[[ 84   1 254 ... 235 132 229]\n",
      " [210 231  84 ...  23   7  20]\n",
      " [244   4  11 ... 252  55 250]\n",
      " ...\n",
      " [184   9 143 ...   0 129   1]\n",
      " [ 14 255 193 ... 244 227 243]\n",
      " [219 245 136 ...   0   0   0]] (647, 2048) 2048 [247 133 249 112 251   0   0   0   0   0]\n",
      "C:\\Users\\yioua\\Documents\\UCSC\\Deep Learning and Artificial Intelligence with TensorFlow\\Final Project\\dl_music\\genres\\rock\\rock.00000.au\n",
      "1 22050 30.013333333333332\n",
      "647 1323588\n",
      "[[184 251 249 ... 249 185 244]\n",
      " [ 65 238 144 ... 253  25   0]\n",
      " [ 78   6  42 ...  10  53  11]\n",
      " ...\n",
      " [ 18 250 139 ...   8 165   7]\n",
      " [143   0 192 ... 246 138 248]\n",
      " [ 48 251 122 ...   0   0   0]] (647, 2048) 2048 [245 178   3 154  16   0   0   0   0   0]\n"
     ]
    }
   ],
   "source": [
    "# Read the file\n",
    "\n",
    "for e in glob.glob(path + \"\\\\*\"):\n",
    "    count = 0\n",
    "    for e2 in glob.glob(e + \"\\\\*\"):\n",
    "        print(e2)\n",
    "        count+=1\n",
    "        with ar.audio_open(e2) as f:\n",
    "            print(f.channels, f.samplerate, f.duration)\n",
    "            i=0\n",
    "            l = 0\n",
    "            data = []\n",
    "            for buf in f:\n",
    "                i+=1\n",
    "                l+=len(buf)\n",
    "                #print(len(buf))\n",
    "                #count2 = 0\n",
    "                for e3 in buf:\n",
    "                    #count2+=1\n",
    "                    data.append(e3)\n",
    "                    #print(e3)\n",
    "                    #if (count2>5):\n",
    "                    #    break\n",
    "                #print(\"test\")\n",
    "                #print(buf)\n",
    "                #break\n",
    "                #print(len(buf))\n",
    "                #if len(buf) > l:\n",
    "                #    print(len(buf))\n",
    "            print(i,l)\n",
    "            data = np.array(data)\n",
    "            data.resize(i,2048,refcheck=False)\n",
    "            print(data,data.shape, len(data[0]), data[i-1][575:585])\n",
    "            #print(len(data))\n",
    "            break\n",
    "    #Stop the loop after 5 elements\n",
    "    if (count>5):\n",
    "        break"
   ]
  },
  {
   "cell_type": "code",
   "execution_count": 116,
   "metadata": {},
   "outputs": [
    {
     "name": "stdout",
     "output_type": "stream",
     "text": [
      "400\n",
      "1323588 2048 647\n"
     ]
    }
   ],
   "source": [
    "\"\"\"Gather all the data into one list, which is a list of tuple composed of the file read as an list of bytes, \n",
    "the size of the buffer and the number of buffers\"\"\"\n",
    "alldata = []\n",
    "\n",
    "#For each directory\n",
    "count = 0\n",
    "for dir_name in glob.glob(path + \"\\\\*\"):\n",
    "    #for each file in the directory\n",
    "    for file_name in glob.glob(dir_name + \"\\\\*\"):\n",
    "        #read the file into data\n",
    "        with ar.audio_open(file_name) as f:\n",
    "            nb_of_buffer = 0\n",
    "            size_of_file = 0\n",
    "            data = []\n",
    "            for buf in f:\n",
    "                nb_of_buffer+=1\n",
    "                size_of_file+=len(buf)\n",
    "                for buf_element in buf:\n",
    "                    data.append(buf_element)\n",
    "            size_of_buffer = size_of_file//(nb_of_buffer-1)\n",
    "            alldata.append((data, size_of_buffer, nb_of_buffer))\n",
    "    count+=1\n",
    "    # Ok, this is taking a while to do, and it is only about 40% of the data...\n",
    "    if count>3:\n",
    "        break\n",
    "\n",
    "print(len(alldata))\n",
    "(d1, size1, nb1) = alldata[0]\n",
    "print(len(d1), size1, nb1)"
   ]
  },
  {
   "cell_type": "code",
   "execution_count": 110,
   "metadata": {},
   "outputs": [
    {
     "data": {
      "text/plain": [
       "2048"
      ]
     },
     "execution_count": 110,
     "metadata": {},
     "output_type": "execute_result"
    }
   ],
   "source": [
    "1323588//646"
   ]
  },
  {
   "cell_type": "code",
   "execution_count": null,
   "metadata": {},
   "outputs": [],
   "source": []
  },
  {
   "cell_type": "code",
   "execution_count": null,
   "metadata": {},
   "outputs": [],
   "source": []
  },
  {
   "cell_type": "code",
   "execution_count": null,
   "metadata": {},
   "outputs": [],
   "source": []
  }
 ],
 "metadata": {
  "kernelspec": {
   "display_name": "Python 3",
   "language": "python",
   "name": "python3"
  },
  "language_info": {
   "codemirror_mode": {
    "name": "ipython",
    "version": 3
   },
   "file_extension": ".py",
   "mimetype": "text/x-python",
   "name": "python",
   "nbconvert_exporter": "python",
   "pygments_lexer": "ipython3",
   "version": "3.5.2"
  },
  "widgets": {
   "state": {},
   "version": "1.1.2"
  }
 },
 "nbformat": 4,
 "nbformat_minor": 2
}
